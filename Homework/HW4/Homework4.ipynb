{
 "cells": [
  {
   "cell_type": "markdown",
   "metadata": {},
   "source": [
    "**Homework 4**\n",
    "\n",
    "Extract the first page of all pdfs in the \"mypdfs\" folder and merge them into one pdf file named \"new.pdf\"."
   ]
  },
  {
   "cell_type": "code",
   "execution_count": 10,
   "metadata": {},
   "outputs": [],
   "source": [
    "import os\n",
    "from PyPDF2 import PdfReader, PdfWriter\n",
    "\n",
    "\n",
    "# set workpath\n",
    "new_path = '/Users/mach/Desktop/23_Fall_M2/Python_Advanced'\n",
    "os.chdir(new_path)\n",
    "\n",
    "def extract_and_merge_pdfs(folder_path, output_file):\n",
    "    writer = PdfWriter()\n",
    "\n",
    "    for file_name in os.listdir(folder_path):\n",
    "        if file_name.endswith('.pdf'):\n",
    "            file_path = os.path.join(folder_path, file_name)\n",
    "\n",
    "            reader = PdfReader(file_path)\n",
    "            if len(reader.pages) > 0:\n",
    "                writer.add_page(reader.pages[0])  # Extract the first page\n",
    "\n",
    "    with open(output_file, 'wb') as out_pdf:\n",
    "        writer.write(out_pdf)\n",
    "\n",
    "extract_and_merge_pdfs('mypdfs', 'new.pdf')"
   ]
  }
 ],
 "metadata": {
  "kernelspec": {
   "display_name": "base",
   "language": "python",
   "name": "python3"
  },
  "language_info": {
   "codemirror_mode": {
    "name": "ipython",
    "version": 3
   },
   "file_extension": ".py",
   "mimetype": "text/x-python",
   "name": "python",
   "nbconvert_exporter": "python",
   "pygments_lexer": "ipython3",
   "version": "3.11.6"
  }
 },
 "nbformat": 4,
 "nbformat_minor": 2
}
