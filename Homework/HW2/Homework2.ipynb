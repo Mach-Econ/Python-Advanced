{
 "cells": [
  {
   "cell_type": "markdown",
   "metadata": {},
   "source": [
    "**1. Python_Programming_04-homework1**"
   ]
  },
  {
   "cell_type": "markdown",
   "metadata": {},
   "source": [
    "Given two strings s and t, return true if t is an anagram of s, and false otherwise. (Using Dictionary)\n",
    "\n",
    "Example :\n",
    "\n",
    "Input: s = \"anagram\", t = \"nagaram\"\n",
    "\n",
    "Output: True\n",
    "\n",
    "print(IsAnagram(s,t))\n",
    "\n",
    "def IsAnagram(s,t):\n",
    "\n",
    "return True or False"
   ]
  },
  {
   "cell_type": "code",
   "execution_count": 1,
   "metadata": {},
   "outputs": [
    {
     "name": "stdout",
     "output_type": "stream",
     "text": [
      "True\n"
     ]
    }
   ],
   "source": [
    "def IsAnagram(s, t):\n",
    "    # Initialize dictionaries to count character occurrences\n",
    "    s_dict = {}\n",
    "    t_dict = {}\n",
    "\n",
    "    # Count occurrences in string s\n",
    "    for char in s:\n",
    "        s_dict[char] = s_dict.get(char, 0) + 1\n",
    "\n",
    "    # Count occurrences in string t\n",
    "    for char in t:\n",
    "        t_dict[char] = t_dict.get(char, 0) + 1\n",
    "\n",
    "    # Compare the dictionaries\n",
    "    return s_dict == t_dict\n",
    "\n",
    "# Example usage\n",
    "s = \"anagram\"\n",
    "t = \"nagaram\"\n",
    "result = IsAnagram(s, t)\n",
    "print(result)"
   ]
  },
  {
   "cell_type": "markdown",
   "metadata": {},
   "source": [
    "**2. Python_Programming_04-homework2**"
   ]
  },
  {
   "cell_type": "markdown",
   "metadata": {},
   "source": [
    "Given a non-negative integer x, compute and return the square root of x. Since the return type is an integer, the decimal digits are truncated, and only the integer part of the result is returned.\n",
    "\n",
    "Note: You are not allowed to use any built-in exponent function or operator, such as pow(x, 0.5) or x ** 0.5\n",
    "\n",
    "Example:\n",
    "\n",
    "Input: x = 8\n",
    "\n",
    "Output: 2\n",
    "\n",
    "def MySqrt(x):\n",
    "\n",
    "return xxx"
   ]
  },
  {
   "cell_type": "code",
   "execution_count": 10,
   "metadata": {},
   "outputs": [
    {
     "name": "stdout",
     "output_type": "stream",
     "text": [
      "2\n",
      "2\n",
      "3\n",
      "3\n"
     ]
    }
   ],
   "source": [
    "def MySqrt(x):\n",
    "    # Handle special cases\n",
    "    if x == 0 or x == 1:\n",
    "        return x\n",
    "    \n",
    "    # Binary search\n",
    "    left, right = 1, x\n",
    "    while left <= right:\n",
    "        mid = left + (right - left) // 2\n",
    "        \n",
    "        # Check if mid is the square root\n",
    "        if mid * mid == x:\n",
    "            return mid\n",
    "        \n",
    "        # If mid^2 is greater than x, search in the left half\n",
    "        elif mid * mid > x:\n",
    "            right = mid - 1\n",
    "        \n",
    "        # If mid^2 is less than x, search in the right half\n",
    "        else:\n",
    "            left = mid + 1\n",
    "    \n",
    "    # The answer is in the left variable (truncate decimal digits)\n",
    "    return left - 1\n",
    "\n",
    "# Example usage\n",
    "x = 8\n",
    "result = MySqrt(x)\n",
    "print(result)\n",
    "print(MySqrt(4))\n",
    "print(MySqrt(9))\n",
    "print(MySqrt(10))"
   ]
  },
  {
   "cell_type": "markdown",
   "metadata": {},
   "source": [
    "**3. Python_Programming_05-homework2**"
   ]
  },
  {
   "cell_type": "markdown",
   "metadata": {},
   "source": [
    "A robot is located at the top-left corner of a m x n grid (marked 'Start' in the diagram below).\n",
    "\n",
    "The robot can only move either down or right at any point in time. The robot is trying to reach the bottom-right corner of the grid (marked 'Finish' in the diagram below).\n",
    "\n",
    "How many possible unique paths are there?\n",
    "\n",
    "Input: m = 3, n = 2\n",
    "\n",
    "Output: 3\n",
    "\n",
    "Explanation:\n",
    "\n",
    "From the top-left corner, there are a total of 3 ways to reach the bottom-right corner:\n",
    "1. Right -> Down -> Down\n",
    "2. Down -> Down -> Right\n",
    "3. Down -> Right -> Down"
   ]
  },
  {
   "cell_type": "code",
   "execution_count": 13,
   "metadata": {},
   "outputs": [
    {
     "name": "stdout",
     "output_type": "stream",
     "text": [
      "3\n",
      "1\n"
     ]
    }
   ],
   "source": [
    "def uniquePaths(m, n):\n",
    "    # Create a 2D array to store the number of unique paths\n",
    "    dp = [[0] * n for _ in range(m)]\n",
    "\n",
    "    # Initialize the first row and column to 1, as there is only one way to reach any cell in the first row or column\n",
    "    for i in range(m):\n",
    "        dp[i][0] = 1\n",
    "    for j in range(n):\n",
    "        dp[0][j] = 1\n",
    "\n",
    "    # Fill in the rest of the array using dynamic programming\n",
    "    for i in range(1, m):\n",
    "        for j in range(1, n):\n",
    "            dp[i][j] = dp[i-1][j] + dp[i][j-1]\n",
    "\n",
    "    # The result is in the bottom-right corner\n",
    "    return dp[m-1][n-1]\n",
    "\n",
    "# Example usage\n",
    "m = 3\n",
    "n = 2\n",
    "result = uniquePaths(m, n)\n",
    "print(result)\n",
    "print(uniquePaths(1, 3))"
   ]
  },
  {
   "cell_type": "markdown",
   "metadata": {},
   "source": [
    "**4. Python_Programming_05-homework2**"
   ]
  },
  {
   "cell_type": "markdown",
   "metadata": {},
   "source": [
    "Given an integer array nums, return the length of the longest strictly increasing subsequence.\n",
    "\n",
    "A subsequence is a sequence that can be derived from an array by deleting some or no elements without changing the order of the remaining elements. For example, [3,6,2,7] is a subsequence of the array [0,3,1,6,2,2,7].\n",
    "\n",
    "Example 1:\n",
    "\n",
    "Input: nums = [10,9,2,5,3,7,101,18]\n",
    "\n",
    "Output: 4\n",
    "\n",
    "Explanation: The longest increasing subsequence is [2,3,7,101], therefore the length is 4.\n",
    "\n",
    "Example 2:\n",
    "\n",
    "Input: nums = [0,1,0,3,2,3]\n",
    "\n",
    "Output: 4"
   ]
  },
  {
   "cell_type": "code",
   "execution_count": 15,
   "metadata": {},
   "outputs": [
    {
     "name": "stdout",
     "output_type": "stream",
     "text": [
      "4\n",
      "4\n"
     ]
    }
   ],
   "source": [
    "def lengthOfLIS(nums):\n",
    "    if not nums:\n",
    "        return 0\n",
    "    \n",
    "    # Initialize an array to store the length of the longest increasing subsequence ending at each index\n",
    "    dp = [1] * len(nums)\n",
    "\n",
    "    # Iterate through the array\n",
    "    for i in range(1, len(nums)):\n",
    "        for j in range(i):\n",
    "            if nums[i] > nums[j]:\n",
    "                dp[i] = max(dp[i], dp[j] + 1)\n",
    "\n",
    "    # The result is the maximum value in the dp array\n",
    "    return max(dp)\n",
    "\n",
    "# Example usage\n",
    "nums1 = [10, 9, 2, 5, 3, 7, 101, 18]\n",
    "result1 = lengthOfLIS(nums1)\n",
    "print(result1)\n",
    "\n",
    "nums2 = [0, 1, 0, 3, 2, 3]\n",
    "result2 = lengthOfLIS(nums2)\n",
    "print(result2)"
   ]
  }
 ],
 "metadata": {
  "kernelspec": {
   "display_name": "base",
   "language": "python",
   "name": "python3"
  },
  "language_info": {
   "codemirror_mode": {
    "name": "ipython",
    "version": 3
   },
   "file_extension": ".py",
   "mimetype": "text/x-python",
   "name": "python",
   "nbconvert_exporter": "python",
   "pygments_lexer": "ipython3",
   "version": "3.11.6"
  }
 },
 "nbformat": 4,
 "nbformat_minor": 2
}
