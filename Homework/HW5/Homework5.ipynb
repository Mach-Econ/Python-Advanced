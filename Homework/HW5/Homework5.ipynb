{
 "cells": [
  {
   "cell_type": "markdown",
   "metadata": {},
   "source": [
    "**Homework 5**\n",
    "\n",
    "Take the abstracts of the first 20 papers in the given URL, translate them into Chinese, and write them into the file named 'my abstract.txt'.\n",
    "\n",
    "URL = https://openaccess.thecvf.com/ICCV2021?day=2021-10-12"
   ]
  },
  {
   "cell_type": "code",
   "execution_count": 11,
   "metadata": {},
   "outputs": [],
   "source": [
    "import requests\n",
    "from bs4 import BeautifulSoup\n",
    "import re\n",
    "import random\n",
    "from hashlib import md5\n",
    "\n",
    "def getUrl(url):\n",
    "    response = requests.get(url)\n",
    "    pdfUrl = []\n",
    "    count = 0\n",
    "    bs = BeautifulSoup(response.text,\"html.parser\")\n",
    "    pdfs = bs.find_all(href=re.compile('/content/.*html'))\n",
    "    names = []\n",
    "    for tag in pdfs:\n",
    "        if count < 20: \n",
    "            pdfUrl.append(\"https://openaccess.thecvf.com\"+tag.get(\"href\"))\n",
    "            count = count+1\n",
    "            names.append(re.split('[./]', tag.get(\"href\"))[-2][:-16].replace(\"_\",\" \"))\n",
    "        else: break\n",
    "    return names,pdfUrl\n",
    "\n",
    "\n",
    "def getAbstract(paperUrls):\n",
    "    abstract = []\n",
    "    for url in paperUrls:\n",
    "        response = requests.get(url)\n",
    "        bs = BeautifulSoup(response.text,\"html.parser\")\n",
    "        abstract.append(bs.find(id=\"abstract\").text.strip())\n",
    "    return abstract\n",
    "\n",
    "def translate_api(input_text):\n",
    "    # Set your own appid/appkey.\n",
    "    appid = '20231227001923466'\n",
    "    appkey = 'h_QCzh_iFjBIJtd5hiQQ'\n",
    "    def make_md5(s, encoding='utf-8'):\n",
    "        return md5(s.encode(encoding)).hexdigest()\n",
    "    # For list of language codes, please refer to `https://api.fanyi.baidu.com/doc/21`\n",
    "    from_lang = 'en'\n",
    "    to_lang = 'zh'\n",
    "    endpoint = 'http://api.fanyi.baidu.com'\n",
    "    path = '/api/trans/vip/translate'\n",
    "    url = endpoint + path\n",
    "    \n",
    "    query = input_text\n",
    "    # Generate salt and sign\n",
    "    salt = random.randint(32768, 65536)\n",
    "    sign = make_md5(appid + query + str(salt) + appkey)\n",
    "    # Build request\n",
    "    headers = {'Content-Type': 'application/x-www-form-urlencoded'}\n",
    "    payload = {'appid': appid, 'q': query, 'from': from_lang, 'to': to_lang, 'salt': salt, 'sign': sign}\n",
    "    # Send request\n",
    "    r = requests.post(url, params=payload, headers=headers)\n",
    "    result = r.json()\n",
    "    return result['trans_result'][0]['dst']\n",
    "\n",
    "def write2txt(path,title,contents):\n",
    "    with open(path,\"w\") as f:\n",
    "        for ti,con in zip(title,contents):\n",
    "            f.write(ti+\"\\n\")\n",
    "            f.write(con+\"\\n\")\n",
    "            f.write(\"\\n\")"
   ]
  },
  {
   "cell_type": "code",
   "execution_count": 12,
   "metadata": {},
   "outputs": [],
   "source": [
    "web = \"https://openaccess.thecvf.com/ICCV2021?day=2021-10-12\"\n",
    "name,pdfurls = getUrl(web)\n",
    "abstracts = getAbstract(pdfurls)\n",
    "ch_abstracts = []"
   ]
  },
  {
   "cell_type": "code",
   "execution_count": 13,
   "metadata": {},
   "outputs": [],
   "source": [
    "for ab in abstracts:\n",
    "    ch_abstracts.append(translate_api(ab))\n",
    "write2txt(\"./myabstract.txt\",name,ch_abstracts)"
   ]
  },
  {
   "cell_type": "code",
   "execution_count": 6,
   "metadata": {},
   "outputs": [
    {
     "data": {
      "text/plain": [
       "20"
      ]
     },
     "execution_count": 6,
     "metadata": {},
     "output_type": "execute_result"
    }
   ],
   "source": [
    "len(abstracts)"
   ]
  },
  {
   "cell_type": "code",
   "execution_count": 8,
   "metadata": {},
   "outputs": [
    {
     "data": {
      "text/plain": [
       "'Continually learning in the real world must overcome many challenges, among which noisy labels are a common and inevitable issue. In this work, we present a replay-based continual learning framework that simultaneously addresses both catastrophic forgetting and noisy labels for the first time. Our solution is based on two observations; (i) forgetting can be mitigated even with noisy labels via self-supervised learning, and (ii) the purity of the replay buffer is crucial. Building on this regard, we propose two key components of our method: (i) a self-supervised replay technique named Self-Replay, which can circumvent erroneous training signals arising from noisy labeled data, and (ii) the Self-Centered filter that maintains a purified replay buffer via centrality-based stochastic graph ensembles. The empirical results on MNIST, CIFAR-10, CIFAR-100, and WebVision with real-world noise demonstrate that our framework can maintain a highly pure replay buffer amidst noisy streamed data while greatly outperforming the combinations of the state-of-the-art continual learning and noisy label learning methods.'"
      ]
     },
     "execution_count": 8,
     "metadata": {},
     "output_type": "execute_result"
    }
   ],
   "source": [
    "abstracts[1]"
   ]
  }
 ],
 "metadata": {
  "kernelspec": {
   "display_name": "base",
   "language": "python",
   "name": "python3"
  },
  "language_info": {
   "codemirror_mode": {
    "name": "ipython",
    "version": 3
   },
   "file_extension": ".py",
   "mimetype": "text/x-python",
   "name": "python",
   "nbconvert_exporter": "python",
   "pygments_lexer": "ipython3",
   "version": "3.11.6"
  }
 },
 "nbformat": 4,
 "nbformat_minor": 2
}
